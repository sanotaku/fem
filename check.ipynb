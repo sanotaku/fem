{
 "metadata": {
  "language_info": {
   "codemirror_mode": {
    "name": "ipython",
    "version": 3
   },
   "file_extension": ".py",
   "mimetype": "text/x-python",
   "name": "python",
   "nbconvert_exporter": "python",
   "pygments_lexer": "ipython3",
   "version": "3.7.7-final"
  },
  "orig_nbformat": 2,
  "kernelspec": {
   "name": "python3",
   "display_name": "Python 3",
   "language": "python"
  }
 },
 "nbformat": 4,
 "nbformat_minor": 2,
 "cells": [
  {
   "cell_type": "code",
   "execution_count": 118,
   "metadata": {},
   "outputs": [],
   "source": [
    "import math\n",
    "\n",
    "import numpy as np\n",
    "import pandas as pd"
   ]
  },
  {
   "cell_type": "code",
   "execution_count": 180,
   "metadata": {},
   "outputs": [],
   "source": [
    "df = pd.read_csv('model_data.csv')"
   ]
  },
  {
   "cell_type": "code",
   "execution_count": 181,
   "metadata": {},
   "outputs": [
    {
     "output_type": "execute_result",
     "data": {
      "text/plain": [
       "     Unnamed: 0  element_no  tri_node_1  tri_node_2  tri_node_3  tri_node_1_x  \\\n",
       "101         101         101          65          66          43      1.852504   \n",
       "102         102         102          35          64          52      0.395353   \n",
       "103         103         103          55          64          42      1.230406   \n",
       "104         104         104          43          66          55      1.457880   \n",
       "105         105         105          56          67          29      4.014172   \n",
       "\n",
       "     tri_node_1_y  tri_node_2_x  tri_node_2_y  tri_node_3_x  tri_node_3_y  \n",
       "101      0.814202      1.616350      1.190392      1.457880      0.808240  \n",
       "102      1.281620      0.812718      1.200081      0.720359      1.610907  \n",
       "103      1.116426      0.812718      1.200081      0.997282      0.811491  \n",
       "104      0.808240      1.616350      1.190392      1.230406      1.116426  \n",
       "105      0.695561      3.691691      0.819180      3.694844      0.422618  "
      ],
      "text/html": "<div>\n<style scoped>\n    .dataframe tbody tr th:only-of-type {\n        vertical-align: middle;\n    }\n\n    .dataframe tbody tr th {\n        vertical-align: top;\n    }\n\n    .dataframe thead th {\n        text-align: right;\n    }\n</style>\n<table border=\"1\" class=\"dataframe\">\n  <thead>\n    <tr style=\"text-align: right;\">\n      <th></th>\n      <th>Unnamed: 0</th>\n      <th>element_no</th>\n      <th>tri_node_1</th>\n      <th>tri_node_2</th>\n      <th>tri_node_3</th>\n      <th>tri_node_1_x</th>\n      <th>tri_node_1_y</th>\n      <th>tri_node_2_x</th>\n      <th>tri_node_2_y</th>\n      <th>tri_node_3_x</th>\n      <th>tri_node_3_y</th>\n    </tr>\n  </thead>\n  <tbody>\n    <tr>\n      <th>101</th>\n      <td>101</td>\n      <td>101</td>\n      <td>65</td>\n      <td>66</td>\n      <td>43</td>\n      <td>1.852504</td>\n      <td>0.814202</td>\n      <td>1.616350</td>\n      <td>1.190392</td>\n      <td>1.457880</td>\n      <td>0.808240</td>\n    </tr>\n    <tr>\n      <th>102</th>\n      <td>102</td>\n      <td>102</td>\n      <td>35</td>\n      <td>64</td>\n      <td>52</td>\n      <td>0.395353</td>\n      <td>1.281620</td>\n      <td>0.812718</td>\n      <td>1.200081</td>\n      <td>0.720359</td>\n      <td>1.610907</td>\n    </tr>\n    <tr>\n      <th>103</th>\n      <td>103</td>\n      <td>103</td>\n      <td>55</td>\n      <td>64</td>\n      <td>42</td>\n      <td>1.230406</td>\n      <td>1.116426</td>\n      <td>0.812718</td>\n      <td>1.200081</td>\n      <td>0.997282</td>\n      <td>0.811491</td>\n    </tr>\n    <tr>\n      <th>104</th>\n      <td>104</td>\n      <td>104</td>\n      <td>43</td>\n      <td>66</td>\n      <td>55</td>\n      <td>1.457880</td>\n      <td>0.808240</td>\n      <td>1.616350</td>\n      <td>1.190392</td>\n      <td>1.230406</td>\n      <td>1.116426</td>\n    </tr>\n    <tr>\n      <th>105</th>\n      <td>105</td>\n      <td>105</td>\n      <td>56</td>\n      <td>67</td>\n      <td>29</td>\n      <td>4.014172</td>\n      <td>0.695561</td>\n      <td>3.691691</td>\n      <td>0.819180</td>\n      <td>3.694844</td>\n      <td>0.422618</td>\n    </tr>\n  </tbody>\n</table>\n</div>"
     },
     "metadata": {},
     "execution_count": 181
    }
   ],
   "source": [
    "df.tail()"
   ]
  },
  {
   "cell_type": "code",
   "execution_count": 7,
   "metadata": {},
   "outputs": [
    {
     "output_type": "execute_result",
     "data": {
      "text/plain": [
       "   Unnamed: 0  element_no  tri_node_1  tri_node_2  tri_node_3  tri_node_1_x  \\\n",
       "0           0           0          41          52          35      4.030930   \n",
       "1           1           1          41          57          52      4.030930   \n",
       "2           2           2          43          65          55      0.997282   \n",
       "3           3           3          43          55          42      0.997282   \n",
       "4           4           4          35          54          41      4.573433   \n",
       "\n",
       "   tri_node_1_y  tri_node_2_x  tri_node_2_y  tri_node_3_x  tri_node_3_y  \n",
       "0      1.123075      4.496190      0.768899      4.573433      1.270602  \n",
       "1      1.123075      4.014172      0.695561      4.496190      0.768899  \n",
       "2      0.811491      0.812718      1.200081      0.447392      0.786252  \n",
       "3      0.811491      0.447392      0.786252      0.752119      0.423386  \n",
       "4      1.270602      4.247375      1.599500      4.030930      1.123075  "
      ],
      "text/html": "<div>\n<style scoped>\n    .dataframe tbody tr th:only-of-type {\n        vertical-align: middle;\n    }\n\n    .dataframe tbody tr th {\n        vertical-align: top;\n    }\n\n    .dataframe thead th {\n        text-align: right;\n    }\n</style>\n<table border=\"1\" class=\"dataframe\">\n  <thead>\n    <tr style=\"text-align: right;\">\n      <th></th>\n      <th>Unnamed: 0</th>\n      <th>element_no</th>\n      <th>tri_node_1</th>\n      <th>tri_node_2</th>\n      <th>tri_node_3</th>\n      <th>tri_node_1_x</th>\n      <th>tri_node_1_y</th>\n      <th>tri_node_2_x</th>\n      <th>tri_node_2_y</th>\n      <th>tri_node_3_x</th>\n      <th>tri_node_3_y</th>\n    </tr>\n  </thead>\n  <tbody>\n    <tr>\n      <th>0</th>\n      <td>0</td>\n      <td>0</td>\n      <td>41</td>\n      <td>52</td>\n      <td>35</td>\n      <td>4.030930</td>\n      <td>1.123075</td>\n      <td>4.496190</td>\n      <td>0.768899</td>\n      <td>4.573433</td>\n      <td>1.270602</td>\n    </tr>\n    <tr>\n      <th>1</th>\n      <td>1</td>\n      <td>1</td>\n      <td>41</td>\n      <td>57</td>\n      <td>52</td>\n      <td>4.030930</td>\n      <td>1.123075</td>\n      <td>4.014172</td>\n      <td>0.695561</td>\n      <td>4.496190</td>\n      <td>0.768899</td>\n    </tr>\n    <tr>\n      <th>2</th>\n      <td>2</td>\n      <td>2</td>\n      <td>43</td>\n      <td>65</td>\n      <td>55</td>\n      <td>0.997282</td>\n      <td>0.811491</td>\n      <td>0.812718</td>\n      <td>1.200081</td>\n      <td>0.447392</td>\n      <td>0.786252</td>\n    </tr>\n    <tr>\n      <th>3</th>\n      <td>3</td>\n      <td>3</td>\n      <td>43</td>\n      <td>55</td>\n      <td>42</td>\n      <td>0.997282</td>\n      <td>0.811491</td>\n      <td>0.447392</td>\n      <td>0.786252</td>\n      <td>0.752119</td>\n      <td>0.423386</td>\n    </tr>\n    <tr>\n      <th>4</th>\n      <td>4</td>\n      <td>4</td>\n      <td>35</td>\n      <td>54</td>\n      <td>41</td>\n      <td>4.573433</td>\n      <td>1.270602</td>\n      <td>4.247375</td>\n      <td>1.599500</td>\n      <td>4.030930</td>\n      <td>1.123075</td>\n    </tr>\n  </tbody>\n</table>\n</div>"
     },
     "metadata": {},
     "execution_count": 7
    }
   ],
   "source": [
    "df.head()"
   ]
  },
  {
   "cell_type": "code",
   "execution_count": 211,
   "metadata": {},
   "outputs": [
    {
     "output_type": "execute_result",
     "data": {
      "text/plain": [
       "<module 'fem.model' from '/Users/takumisano/OneDrive/Programming/jupyter_notebook/fem/fem/model.py'>"
      ]
     },
     "metadata": {},
     "execution_count": 211
    }
   ],
   "source": [
    "from fem import model\n",
    "\n",
    "import importlib\n",
    "importlib.reload(model)"
   ]
  },
  {
   "cell_type": "code",
   "execution_count": 212,
   "metadata": {},
   "outputs": [],
   "source": [
    "model_obj = model.Model()"
   ]
  },
  {
   "cell_type": "code",
   "execution_count": 213,
   "metadata": {
    "tags": []
   },
   "outputs": [
    {
     "output_type": "stream",
     "name": "stderr",
     "text": [
      "/Users/takumisano/OneDrive/Programming/jupyter_notebook/fem/fem/model.py:149: RuntimeWarning: divide by zero encountered in double_scalars\n  coef = 1 / (2 * self._area)\n/Users/takumisano/OneDrive/Programming/jupyter_notebook/fem/fem/model.py:152: RuntimeWarning: invalid value encountered in double_scalars\n  [coef * (node_2.y - node_3.y), 0, coef * (node_3.y - node_1.y), 0, coef * (node_1.y - node_2.y), 0],\n/Users/takumisano/OneDrive/Programming/jupyter_notebook/fem/fem/model.py:157: RuntimeWarning: invalid value encountered in multiply\n  self._ke_mat = d_mat.thickness * self._area * self._b_mat.T @ d_mat.d_mat.T @ self._b_mat\n"
     ]
    }
   ],
   "source": [
    "model_obj.read_model(model_filename=\"model_data.csv\", young_module=210000, poisson_retio=0.3)"
   ]
  },
  {
   "cell_type": "code",
   "execution_count": 214,
   "metadata": {},
   "outputs": [
    {
     "output_type": "execute_result",
     "data": {
      "text/plain": [
       "{1: {'node_no': 42, 'coordinate': (0.9972821559999999, 0.811491471)},\n",
       " 2: {'node_no': 54, 'coordinate': (0.44739165299999994, 0.786251565)},\n",
       " 3: {'node_no': 41, 'coordinate': (0.752118685, 0.42338602299999994)}}"
      ]
     },
     "metadata": {},
     "execution_count": 214
    }
   ],
   "source": [
    "model_obj.elements[3].nodes"
   ]
  },
  {
   "cell_type": "code",
   "execution_count": 215,
   "metadata": {},
   "outputs": [
    {
     "output_type": "execute_result",
     "data": {
      "text/plain": [
       "array([[ 21214.05357255,  -2317.2681315 ,  -7198.37637223,\n",
       "         10037.5290286 , -14015.67720032,  -7720.26089709],\n",
       "       [ -2317.2681315 ,   6519.86246593,   6918.81915978,\n",
       "         -5278.31262685,  -4601.55102827,  -1241.54983907],\n",
       "       [ -7198.37637223,   6918.81915978,   8861.36820555,\n",
       "         -4785.69593817,  -1662.99183332,  -2133.12322161],\n",
       "       [ 10037.5290286 ,  -5278.31262685,  -4785.69593817,\n",
       "         25158.42971939,  -5251.83309043, -19880.11709253],\n",
       "       [-14015.67720032,  -4601.55102827,  -1662.99183332,\n",
       "         -5251.83309043,  15678.66903364,   9853.3841187 ],\n",
       "       [ -7720.26089709,  -1241.54983907,  -2133.12322161,\n",
       "        -19880.11709253,   9853.3841187 ,  21121.66693161]])"
      ]
     },
     "metadata": {},
     "execution_count": 215
    }
   ],
   "source": [
    "model_obj.elements[0].ke_mat"
   ]
  },
  {
   "cell_type": "code",
   "execution_count": 174,
   "metadata": {},
   "outputs": [
    {
     "output_type": "execute_result",
     "data": {
      "text/plain": [
       "40"
      ]
     },
     "metadata": {},
     "execution_count": 174
    }
   ],
   "source": [
    "model_obj.elements[0].nodes[1]['node_no']"
   ]
  },
  {
   "cell_type": "code",
   "execution_count": 175,
   "metadata": {},
   "outputs": [
    {
     "output_type": "execute_result",
     "data": {
      "text/plain": [
       "3"
      ]
     },
     "metadata": {},
     "execution_count": 175
    }
   ],
   "source": [
    "math.floor(5 / 2) + 1"
   ]
  },
  {
   "cell_type": "code",
   "execution_count": 176,
   "metadata": {},
   "outputs": [
    {
     "output_type": "execute_result",
     "data": {
      "text/plain": [
       "1"
      ]
     },
     "metadata": {},
     "execution_count": 176
    }
   ],
   "source": [
    "1 % 2"
   ]
  },
  {
   "cell_type": "code",
   "execution_count": 217,
   "metadata": {},
   "outputs": [],
   "source": [
    "pd.DataFrame(model_obj.k_mat.tolist()).to_csv(\"kmat.csv\")"
   ]
  },
  {
   "cell_type": "code",
   "execution_count": 179,
   "metadata": {},
   "outputs": [
    {
     "output_type": "execute_result",
     "data": {
      "text/plain": [
       "{'node_num': 68,\n",
       " 'dof_node': 2,\n",
       " 'dof_total': 136,\n",
       " 'node_tria': 3,\n",
       " 'dof_tria3': 6,\n",
       " 'element_num': 105}"
      ]
     },
     "metadata": {},
     "execution_count": 179
    }
   ],
   "source": [
    "model_obj.model_data"
   ]
  },
  {
   "cell_type": "code",
   "execution_count": 216,
   "metadata": {},
   "outputs": [
    {
     "output_type": "execute_result",
     "data": {
      "text/plain": [
       "array([[             nan,              nan,       0.        , ...,\n",
       "              0.        ,       0.        ,       0.        ],\n",
       "       [             nan,              nan,       0.        , ...,\n",
       "              0.        ,       0.        ,       0.        ],\n",
       "       [      0.        ,       0.        ,   -2618.59993635, ...,\n",
       "              0.        ,       0.        ,       0.        ],\n",
       "       ...,\n",
       "       [      0.        ,       0.        ,       0.        , ...,\n",
       "         260204.84413659,       0.        ,       0.        ],\n",
       "       [      0.        ,       0.        ,       0.        , ...,\n",
       "              0.        , -181490.72248788,   68797.06833965],\n",
       "       [      0.        ,       0.        ,       0.        , ...,\n",
       "              0.        ,   68797.06833965, -115561.24413166]])"
      ]
     },
     "metadata": {},
     "execution_count": 216
    }
   ],
   "source": [
    "model_obj.k_mat"
   ]
  },
  {
   "cell_type": "code",
   "execution_count": 196,
   "metadata": {},
   "outputs": [],
   "source": [
    "A = np.array([\n",
    "    [1, 2, 3],\n",
    "    [4, 5, 6]\n",
    "])"
   ]
  },
  {
   "cell_type": "code",
   "execution_count": 201,
   "metadata": {},
   "outputs": [
    {
     "output_type": "execute_result",
     "data": {
      "text/plain": [
       "3"
      ]
     },
     "metadata": {},
     "execution_count": 201
    }
   ],
   "source": [
    "A[0][2]"
   ]
  },
  {
   "cell_type": "code",
   "execution_count": null,
   "metadata": {},
   "outputs": [],
   "source": []
  }
 ]
}