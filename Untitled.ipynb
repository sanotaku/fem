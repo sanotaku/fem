{
 "cells": [
  {
   "cell_type": "code",
   "execution_count": 1,
   "metadata": {},
   "outputs": [],
   "source": [
    "import math\n",
    "\n",
    "import matplotlib.pyplot as plt\n",
    "import numpy as np\n",
    "import pandas as pd"
   ]
  },
  {
   "cell_type": "code",
   "execution_count": 6,
   "metadata": {},
   "outputs": [],
   "source": [
    "c11 = 1\n",
    "c12 = 1\n",
    "c13 = 1\n",
    "c14 = 1\n",
    "c33 = 1\n",
    "c44 = 1\n",
    "c11 = 1\n",
    "c66 = (c11 - c12)/2\n",
    "\n",
    "cE = np.array([\n",
    "    [c11, c12, c13, c14, 0, 0],\n",
    "    [c12, c11, c13, -c14, 0, 0],\n",
    "    [c13, c13, c33, 0, 0, 0],\n",
    "    [c14, -c14, 0, c44, 0, 0],\n",
    "    [0, 0, 0, 0, c44, c14],\n",
    "    [0, 0, 0, 0, c14, c66]\n",
    "])\n",
    "\n",
    "\n",
    "e11 = 1\n",
    "e14 = 1\n",
    "\n",
    "e = np.array([\n",
    "    [e11, -e11, 0, e14, 0, 0],\n",
    "    [0, 0, 0, 0, -e14, -e11],\n",
    "    [0, 0, 0, 0, 0, 0]\n",
    "])\n",
    "\n",
    "\n",
    "eps11 = 1\n",
    "eps33 = 1\n",
    "\n",
    "epsS = np.array([\n",
    "    [eps11, 0, 0],\n",
    "    [0, eps11, 0],\n",
    "    [0, 0, eps33]\n",
    "])"
   ]
  },
  {
   "cell_type": "code",
   "execution_count": 8,
   "metadata": {},
   "outputs": [
    {
     "data": {
      "text/plain": [
       "array([[1, 0, 0],\n",
       "       [0, 1, 0],\n",
       "       [0, 0, 1]])"
      ]
     },
     "execution_count": 8,
     "metadata": {},
     "output_type": "execute_result"
    }
   ],
   "source": [
    "epsS"
   ]
  },
  {
   "cell_type": "code",
   "execution_count": null,
   "metadata": {},
   "outputs": [],
   "source": []
  }
 ],
 "metadata": {
  "kernelspec": {
   "display_name": "Python 3",
   "language": "python",
   "name": "python3"
  },
  "language_info": {
   "codemirror_mode": {
    "name": "ipython",
    "version": 3
   },
   "file_extension": ".py",
   "mimetype": "text/x-python",
   "name": "python",
   "nbconvert_exporter": "python",
   "pygments_lexer": "ipython3",
   "version": "3.7.3"
  }
 },
 "nbformat": 4,
 "nbformat_minor": 2
}
