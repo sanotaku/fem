{
 "cells": [
  {
   "cell_type": "code",
   "execution_count": 35,
   "metadata": {},
   "outputs": [],
   "source": [
    "import math\n",
    "\n",
    "import matplotlib.pyplot as plt\n",
    "import numpy as np\n",
    "import pandas as pd\n",
    "import sympy\n",
    "from sympy import symbols, Matrix\n",
    "\n",
    "sympy.init_printing()"
   ]
  },
  {
   "cell_type": "code",
   "execution_count": 38,
   "metadata": {},
   "outputs": [],
   "source": [
    "# Dマトリクス(弾性テンソル)\n",
    "\n",
    "# SS400での値\n",
    "young_module = 206 * 10**9\n",
    "g_module = 79 * 10**9\n",
    "\n",
    "\n",
    "E, G = symbols(\"E, G\")\n",
    "\n",
    "D = Matrix([\n",
    "    [E, E, E, 0, 0, 0],\n",
    "    [E, E, E, 0, 0, 0],\n",
    "    [E, E, E, 0, 0, 0],\n",
    "    [0, 0, 0, G, 0, 0],\n",
    "    [0, 0, 0, 0, G, 0],\n",
    "    [0, 0, 0, 0, 0, G]\n",
    "])\n",
    "\n",
    "D = D.subs(E, young_module)\n",
    "D = D.subs(G, g_module)"
   ]
  },
  {
   "cell_type": "code",
   "execution_count": 48,
   "metadata": {},
   "outputs": [],
   "source": [
    "u_1, v_1, w_1, u_2, v_2, w_2, u_3, v_3, w_3, u_4, v_4, w_4 = symbols(\"u_1 v_1 w_1 u_2 v_2 w_2 u_3 v_3 w_3 u_4 v_4 w_4\")"
   ]
  },
  {
   "cell_type": "code",
   "execution_count": 150,
   "metadata": {},
   "outputs": [],
   "source": [
    "# x_ele = [0, 2, 0, 0]\n",
    "# y_ele = [0, 0, 2, 0]\n",
    "# z_ele = [0, 0, 0, 2]\n",
    "\n",
    "x_ele = [symbols(\"x_e1\"), symbols(\"x_e2\"), symbols(\"x_e3\"), symbols(\"x_e4\")]\n",
    "y_ele = [symbols(\"y_e1\"), symbols(\"y_e2\"), symbols(\"y_e3\"), symbols(\"y_e4\")]\n",
    "z_ele = [symbols(\"z_e1\"), symbols(\"z_e2\"), symbols(\"z_e3\"), symbols(\"z_e4\")]\n",
    "\n",
    "u, x, y, z = symbols(\"u x y z\")\n",
    "V = symbols(\"V\")\n",
    "\n",
    "u_1, u_2, u_3, u_4 = symbols(\"u1:5\")\n",
    "N_1, N_2, N_3, N_4 = symbols(\"N1:5\")\n",
    "a_1, a_2, a_3, a_4 = symbols(\"a1:5\")\n",
    "b_1, b_2, b_3, b_4 = symbols(\"b1:5\")\n",
    "c_1, c_2, c_3, c_4 = symbols(\"c1:5\")\n",
    "d_1, d_2, d_3, d_4 = symbols(\"d1:5\")\n",
    "\n",
    "a = Matrix([\n",
    "    [a_1],\n",
    "    [a_2],\n",
    "    [a_3],\n",
    "    [a_4]\n",
    "])    \n",
    "    \n",
    "b = Matrix([\n",
    "    [b_1],\n",
    "    [b_2],\n",
    "    [b_3],\n",
    "    [b_4]\n",
    "])\n",
    "\n",
    "c = Matrix([\n",
    "    [c_1],\n",
    "    [c_2],\n",
    "    [c_3],\n",
    "    [c_4]\n",
    "])\n",
    "\n",
    "d = Matrix([\n",
    "    [d_1],\n",
    "    [d_2],\n",
    "    [d_3],\n",
    "    [d_4]\n",
    "])\n",
    "\n",
    "\n",
    "for i, j, k, l in zip([0, 1, 2, 3],\n",
    "                      [1, 2, 3, 0],\n",
    "                      [2, 3, 0, 1],\n",
    "                      [3, 0, 1, 2]):\n",
    "    a[i-1] = Matrix([\n",
    "        [1, y_ele[j], z_ele[j]],\n",
    "        [1, y_ele[k], z_ele[k]],\n",
    "        [1, y_ele[l], z_ele[l]]\n",
    "    ]).det() * (-1)**(i-1)\n",
    "    \n",
    "    b[i-1] = Matrix([\n",
    "        [x_ele[j], 1, z_ele[j]],\n",
    "        [x_ele[k], 1, z_ele[k]],\n",
    "        [x_ele[l], 1, z_ele[l]]\n",
    "    ]).det() * (-1)**(i-1)\n",
    "\n",
    "    c[i-1] = Matrix([\n",
    "        [x_ele[j], y_ele[j], 1],\n",
    "        [x_ele[k], y_ele[k], 1],\n",
    "        [x_ele[l], y_ele[l], 1]\n",
    "    ]).det() * (-1)**(i-1)\n",
    "\n",
    "    d[i-1] = Matrix([\n",
    "        [x_ele[j], y_ele[j], z_ele[j]],\n",
    "        [x_ele[k], y_ele[k], z_ele[k]],\n",
    "        [x_ele[l], y_ele[l], z_ele[l]]\n",
    "    ]).det() * (-1)**i\n",
    "\n",
    "\n",
    "V = Matrix([\n",
    "    [1, x_ele[0], y_ele[0], z_ele[0]],\n",
    "    [1, x_ele[1], y_ele[1], z_ele[1]],\n",
    "    [1, x_ele[2], y_ele[2], z_ele[2]],\n",
    "    [1, x_ele[3], y_ele[3], z_ele[3]]\n",
    "]).det()/6\n",
    "\n",
    "\n",
    "N_1 = (a[0]*x + b[0]*y + c[0]*z + d[0])/(6*V)\n",
    "N_2 = (a[1]*x + b[1]*y + c[1]*z + d[1])/(6*V)\n",
    "N_3 = (a[2]*x + b[2]*y + c[2]*z + d[2])/(6*V)\n",
    "N_4 = (a[3]*x + b[3]*y + c[3]*z + d[3])/(6*V)\n",
    "\n",
    "u = N_1*u_1 + N_2*u_2 + N_3*u_3 + N_4*u_4\n"
   ]
  },
  {
   "cell_type": "code",
   "execution_count": 152,
   "metadata": {},
   "outputs": [
    {
     "data": {
      "image/png": "[encoded data removed]",
      "text/latex": [
       "$$\\frac{u_{1} \\left(y_{e1} z_{e3} - y_{e1} z_{e4} - y_{e3} z_{e1} + y_{e3} z_{e4} + y_{e4} z_{e1} - y_{e4} z_{e3}\\right)}{- x_{e1} y_{e2} z_{e3} + x_{e1} y_{e2} z_{e4} + x_{e1} y_{e3} z_{e2} - x_{e1} y_{e3} z_{e4} - x_{e1} y_{e4} z_{e2} + x_{e1} y_{e4} z_{e3} + x_{e2} y_{e1} z_{e3} - x_{e2} y_{e1} z_{e4} - x_{e2} y_{e3} z_{e1} + x_{e2} y_{e3} z_{e4} + x_{e2} y_{e4} z_{e1} - x_{e2} y_{e4} z_{e3} - x_{e3} y_{e1} z_{e2} + x_{e3} y_{e1} z_{e4} + x_{e3} y_{e2} z_{e1} - x_{e3} y_{e2} z_{e4} - x_{e3} y_{e4} z_{e1} + x_{e3} y_{e4} z_{e2} + x_{e4} y_{e1} z_{e2} - x_{e4} y_{e1} z_{e3} - x_{e4} y_{e2} z_{e1} + x_{e4} y_{e2} z_{e3} + x_{e4} y_{e3} z_{e1} - x_{e4} y_{e3} z_{e2}} + \\frac{u_{2} \\left(- y_{e1} z_{e2} + y_{e1} z_{e4} + y_{e2} z_{e1} - y_{e2} z_{e4} - y_{e4} z_{e1} + y_{e4} z_{e2}\\right)}{- x_{e1} y_{e2} z_{e3} + x_{e1} y_{e2} z_{e4} + x_{e1} y_{e3} z_{e2} - x_{e1} y_{e3} z_{e4} - x_{e1} y_{e4} z_{e2} + x_{e1} y_{e4} z_{e3} + x_{e2} y_{e1} z_{e3} - x_{e2} y_{e1} z_{e4} - x_{e2} y_{e3} z_{e1} + x_{e2} y_{e3} z_{e4} + x_{e2} y_{e4} z_{e1} - x_{e2} y_{e4} z_{e3} - x_{e3} y_{e1} z_{e2} + x_{e3} y_{e1} z_{e4} + x_{e3} y_{e2} z_{e1} - x_{e3} y_{e2} z_{e4} - x_{e3} y_{e4} z_{e1} + x_{e3} y_{e4} z_{e2} + x_{e4} y_{e1} z_{e2} - x_{e4} y_{e1} z_{e3} - x_{e4} y_{e2} z_{e1} + x_{e4} y_{e2} z_{e3} + x_{e4} y_{e3} z_{e1} - x_{e4} y_{e3} z_{e2}} + \\frac{u_{3} \\left(y_{e1} z_{e2} - y_{e1} z_{e3} - y_{e2} z_{e1} + y_{e2} z_{e3} + y_{e3} z_{e1} - y_{e3} z_{e2}\\right)}{- x_{e1} y_{e2} z_{e3} + x_{e1} y_{e2} z_{e4} + x_{e1} y_{e3} z_{e2} - x_{e1} y_{e3} z_{e4} - x_{e1} y_{e4} z_{e2} + x_{e1} y_{e4} z_{e3} + x_{e2} y_{e1} z_{e3} - x_{e2} y_{e1} z_{e4} - x_{e2} y_{e3} z_{e1} + x_{e2} y_{e3} z_{e4} + x_{e2} y_{e4} z_{e1} - x_{e2} y_{e4} z_{e3} - x_{e3} y_{e1} z_{e2} + x_{e3} y_{e1} z_{e4} + x_{e3} y_{e2} z_{e1} - x_{e3} y_{e2} z_{e4} - x_{e3} y_{e4} z_{e1} + x_{e3} y_{e4} z_{e2} + x_{e4} y_{e1} z_{e2} - x_{e4} y_{e1} z_{e3} - x_{e4} y_{e2} z_{e1} + x_{e4} y_{e2} z_{e3} + x_{e4} y_{e3} z_{e1} - x_{e4} y_{e3} z_{e2}} + \\frac{u_{4} \\left(- 1.0 y_{e2} z_{e3} + 1.0 y_{e2} z_{e4} + 1.0 y_{e3} z_{e2} - 1.0 y_{e3} z_{e4} - 1.0 y_{e4} z_{e2} + 1.0 y_{e4} z_{e3}\\right)}{- x_{e1} y_{e2} z_{e3} + x_{e1} y_{e2} z_{e4} + x_{e1} y_{e3} z_{e2} - x_{e1} y_{e3} z_{e4} - x_{e1} y_{e4} z_{e2} + x_{e1} y_{e4} z_{e3} + x_{e2} y_{e1} z_{e3} - x_{e2} y_{e1} z_{e4} - x_{e2} y_{e3} z_{e1} + x_{e2} y_{e3} z_{e4} + x_{e2} y_{e4} z_{e1} - x_{e2} y_{e4} z_{e3} - x_{e3} y_{e1} z_{e2} + x_{e3} y_{e1} z_{e4} + x_{e3} y_{e2} z_{e1} - x_{e3} y_{e2} z_{e4} - x_{e3} y_{e4} z_{e1} + x_{e3} y_{e4} z_{e2} + x_{e4} y_{e1} z_{e2} - x_{e4} y_{e1} z_{e3} - x_{e4} y_{e2} z_{e1} + x_{e4} y_{e2} z_{e3} + x_{e4} y_{e3} z_{e1} - x_{e4} y_{e3} z_{e2}}$$"
      ],
      "text/plain": [
       "                                                                              \n",
       "──────────────────────────────────────────────────────────────────────────────\n",
       "-xₑ₁⋅yₑ₂⋅zₑ₃ + xₑ₁⋅yₑ₂⋅zₑ₄ + xₑ₁⋅yₑ₃⋅zₑ₂ - xₑ₁⋅yₑ₃⋅zₑ₄ - xₑ₁⋅yₑ₄⋅zₑ₂ + xₑ₁⋅yₑ₄\n",
       "\n",
       "                                                          u₁⋅(yₑ₁⋅zₑ₃ - yₑ₁⋅zₑ\n",
       "──────────────────────────────────────────────────────────────────────────────\n",
       "⋅zₑ₃ + xₑ₂⋅yₑ₁⋅zₑ₃ - xₑ₂⋅yₑ₁⋅zₑ₄ - xₑ₂⋅yₑ₃⋅zₑ₁ + xₑ₂⋅yₑ₃⋅zₑ₄ + xₑ₂⋅yₑ₄⋅zₑ₁ - x\n",
       "\n",
       "₄ - yₑ₃⋅zₑ₁ + yₑ₃⋅zₑ₄ + yₑ₄⋅zₑ₁ - yₑ₄⋅zₑ₃)                                    \n",
       "──────────────────────────────────────────────────────────────────────────────\n",
       "ₑ₂⋅yₑ₄⋅zₑ₃ - xₑ₃⋅yₑ₁⋅zₑ₂ + xₑ₃⋅yₑ₁⋅zₑ₄ + xₑ₃⋅yₑ₂⋅zₑ₁ - xₑ₃⋅yₑ₂⋅zₑ₄ - xₑ₃⋅yₑ₄⋅z\n",
       "\n",
       "                                                                              \n",
       "──────────────────────────────────────────────────────────────────────────────\n",
       "ₑ₁ + xₑ₃⋅yₑ₄⋅zₑ₂ + xₑ₄⋅yₑ₁⋅zₑ₂ - xₑ₄⋅yₑ₁⋅zₑ₃ - xₑ₄⋅yₑ₂⋅zₑ₁ + xₑ₄⋅yₑ₂⋅zₑ₃ + xₑ₄\n",
       "\n",
       "                                                                              \n",
       "────────────────────── + ─────────────────────────────────────────────────────\n",
       "⋅yₑ₃⋅zₑ₁ - xₑ₄⋅yₑ₃⋅zₑ₂   -xₑ₁⋅yₑ₂⋅zₑ₃ + xₑ₁⋅yₑ₂⋅zₑ₄ + xₑ₁⋅yₑ₃⋅zₑ₂ - xₑ₁⋅yₑ₃⋅zₑ\n",
       "\n",
       "                                                                              \n",
       "──────────────────────────────────────────────────────────────────────────────\n",
       "₄ - xₑ₁⋅yₑ₄⋅zₑ₂ + xₑ₁⋅yₑ₄⋅zₑ₃ + xₑ₂⋅yₑ₁⋅zₑ₃ - xₑ₂⋅yₑ₁⋅zₑ₄ - xₑ₂⋅yₑ₃⋅zₑ₁ + xₑ₂⋅\n",
       "\n",
       "    u₂⋅(-yₑ₁⋅zₑ₂ + yₑ₁⋅zₑ₄ + yₑ₂⋅zₑ₁ - yₑ₂⋅zₑ₄ - yₑ₄⋅zₑ₁ + yₑ₄⋅zₑ₂)           \n",
       "──────────────────────────────────────────────────────────────────────────────\n",
       "yₑ₃⋅zₑ₄ + xₑ₂⋅yₑ₄⋅zₑ₁ - xₑ₂⋅yₑ₄⋅zₑ₃ - xₑ₃⋅yₑ₁⋅zₑ₂ + xₑ₃⋅yₑ₁⋅zₑ₄ + xₑ₃⋅yₑ₂⋅zₑ₁ \n",
       "\n",
       "                                                                              \n",
       "──────────────────────────────────────────────────────────────────────────────\n",
       "- xₑ₃⋅yₑ₂⋅zₑ₄ - xₑ₃⋅yₑ₄⋅zₑ₁ + xₑ₃⋅yₑ₄⋅zₑ₂ + xₑ₄⋅yₑ₁⋅zₑ₂ - xₑ₄⋅yₑ₁⋅zₑ₃ - xₑ₄⋅yₑ\n",
       "\n",
       "                                                                              \n",
       "─────────────────────────────────────────────── + ────────────────────────────\n",
       "₂⋅zₑ₁ + xₑ₄⋅yₑ₂⋅zₑ₃ + xₑ₄⋅yₑ₃⋅zₑ₁ - xₑ₄⋅yₑ₃⋅zₑ₂   -xₑ₁⋅yₑ₂⋅zₑ₃ + xₑ₁⋅yₑ₂⋅zₑ₄ +\n",
       "\n",
       "                                                                              \n",
       "──────────────────────────────────────────────────────────────────────────────\n",
       " xₑ₁⋅yₑ₃⋅zₑ₂ - xₑ₁⋅yₑ₃⋅zₑ₄ - xₑ₁⋅yₑ₄⋅zₑ₂ + xₑ₁⋅yₑ₄⋅zₑ₃ + xₑ₂⋅yₑ₁⋅zₑ₃ - xₑ₂⋅yₑ₁\n",
       "\n",
       "                              u₃⋅(yₑ₁⋅zₑ₂ - yₑ₁⋅zₑ₃ - yₑ₂⋅zₑ₁ + yₑ₂⋅zₑ₃ + yₑ₃⋅\n",
       "──────────────────────────────────────────────────────────────────────────────\n",
       "⋅zₑ₄ - xₑ₂⋅yₑ₃⋅zₑ₁ + xₑ₂⋅yₑ₃⋅zₑ₄ + xₑ₂⋅yₑ₄⋅zₑ₁ - xₑ₂⋅yₑ₄⋅zₑ₃ - xₑ₃⋅yₑ₁⋅zₑ₂ + x\n",
       "\n",
       "zₑ₁ - yₑ₃⋅zₑ₂)                                                                \n",
       "──────────────────────────────────────────────────────────────────────────────\n",
       "ₑ₃⋅yₑ₁⋅zₑ₄ + xₑ₃⋅yₑ₂⋅zₑ₁ - xₑ₃⋅yₑ₂⋅zₑ₄ - xₑ₃⋅yₑ₄⋅zₑ₁ + xₑ₃⋅yₑ₄⋅zₑ₂ + xₑ₄⋅yₑ₁⋅z\n",
       "\n",
       "                                                                              \n",
       "──────────────────────────────────────────────────────────────────────── + ───\n",
       "ₑ₂ - xₑ₄⋅yₑ₁⋅zₑ₃ - xₑ₄⋅yₑ₂⋅zₑ₁ + xₑ₄⋅yₑ₂⋅zₑ₃ + xₑ₄⋅yₑ₃⋅zₑ₁ - xₑ₄⋅yₑ₃⋅zₑ₂   -xₑ\n",
       "\n",
       "                                                                              \n",
       "──────────────────────────────────────────────────────────────────────────────\n",
       "₁⋅yₑ₂⋅zₑ₃ + xₑ₁⋅yₑ₂⋅zₑ₄ + xₑ₁⋅yₑ₃⋅zₑ₂ - xₑ₁⋅yₑ₃⋅zₑ₄ - xₑ₁⋅yₑ₄⋅zₑ₂ + xₑ₁⋅yₑ₄⋅zₑ\n",
       "\n",
       "                                          u₄⋅(-1.0⋅yₑ₂⋅zₑ₃ + 1.0⋅yₑ₂⋅zₑ₄ + 1.0\n",
       "──────────────────────────────────────────────────────────────────────────────\n",
       "₃ + xₑ₂⋅yₑ₁⋅zₑ₃ - xₑ₂⋅yₑ₁⋅zₑ₄ - xₑ₂⋅yₑ₃⋅zₑ₁ + xₑ₂⋅yₑ₃⋅zₑ₄ + xₑ₂⋅yₑ₄⋅zₑ₁ - xₑ₂⋅\n",
       "\n",
       "⋅yₑ₃⋅zₑ₂ - 1.0⋅yₑ₃⋅zₑ₄ - 1.0⋅yₑ₄⋅zₑ₂ + 1.0⋅yₑ₄⋅zₑ₃)                           \n",
       "──────────────────────────────────────────────────────────────────────────────\n",
       "yₑ₄⋅zₑ₃ - xₑ₃⋅yₑ₁⋅zₑ₂ + xₑ₃⋅yₑ₁⋅zₑ₄ + xₑ₃⋅yₑ₂⋅zₑ₁ - xₑ₃⋅yₑ₂⋅zₑ₄ - xₑ₃⋅yₑ₄⋅zₑ₁ \n",
       "\n",
       "                                                                              \n",
       "──────────────────────────────────────────────────────────────────────────────\n",
       "+ xₑ₃⋅yₑ₄⋅zₑ₂ + xₑ₄⋅yₑ₁⋅zₑ₂ - xₑ₄⋅yₑ₁⋅zₑ₃ - xₑ₄⋅yₑ₂⋅zₑ₁ + xₑ₄⋅yₑ₂⋅zₑ₃ + xₑ₄⋅yₑ\n",
       "\n",
       "                   \n",
       "───────────────────\n",
       "₃⋅zₑ₁ - xₑ₄⋅yₑ₃⋅zₑ₂"
      ]
     },
     "execution_count": 152,
     "metadata": {},
     "output_type": "execute_result"
    }
   ],
   "source": [
    "u.diff(x)"
   ]
  },
  {
   "cell_type": "code",
   "execution_count": 145,
   "metadata": {},
   "outputs": [
    {
     "data": {
      "image/png": "[encoded data removed]",
      "text/latex": [
       "$$\\frac{u_{3}}{2} - 0.5 u_{4}$$"
      ],
      "text/plain": [
       "u₃         \n",
       "── - 0.5⋅u₄\n",
       "2          "
      ]
     },
     "execution_count": 145,
     "metadata": {},
     "output_type": "execute_result"
    }
   ],
   "source": []
  },
  {
   "cell_type": "code",
   "execution_count": null,
   "metadata": {},
   "outputs": [],
   "source": []
  },
  {
   "cell_type": "code",
   "execution_count": 146,
   "metadata": {},
   "outputs": [
    {
     "data": {
      "image/png": "[encoded data removed]",
      "text/latex": [
       "$$u_{4}$$"
      ],
      "text/plain": [
       "u₄"
      ]
     },
     "execution_count": 146,
     "metadata": {},
     "output_type": "execute_result"
    }
   ],
   "source": [
    "r = u.subs(x, 0)\n",
    "r = r.subs(y, 0)\n",
    "r = r.subs(z, 0)\n",
    "r"
   ]
  },
  {
   "cell_type": "code",
   "execution_count": 147,
   "metadata": {},
   "outputs": [],
   "source": [
    "eps = Matrix([\n",
    "    [u.diff(x)],\n",
    "    [u.diff(y)],\n",
    "    [u.diff(z)],\n",
    "    [(u.diff(y) + u.diff(z))/2],\n",
    "    [(u.diff(z) + u.diff(x))/2],\n",
    "    [(u.diff(x) + u.diff(y))/2],\n",
    "])"
   ]
  },
  {
   "cell_type": "code",
   "execution_count": null,
   "metadata": {},
   "outputs": [],
   "source": []
  },
  {
   "cell_type": "code",
   "execution_count": 148,
   "metadata": {},
   "outputs": [
    {
     "data": {
      "text/latex": [
       "$$\\left[\\begin{matrix}\\frac{u_{1}}{2} - 0.5 u_{4}\\\\\\frac{u_{2}}{2} - 0.5 u_{4}\\\\\\frac{u_{3}}{2} - 0.5 u_{4}\\\\\\frac{u_{2}}{4} + \\frac{u_{3}}{4} - 0.5 u_{4}\\\\\\frac{u_{1}}{4} + \\frac{u_{3}}{4} - 0.5 u_{4}\\\\\\frac{u_{1}}{4} + \\frac{u_{2}}{4} - 0.5 u_{4}\\end{matrix}\\right]$$"
      ],
      "text/plain": [
       "⎡  u₁            ⎤\n",
       "⎢  ── - 0.5⋅u₄   ⎥\n",
       "⎢  2             ⎥\n",
       "⎢                ⎥\n",
       "⎢  u₂            ⎥\n",
       "⎢  ── - 0.5⋅u₄   ⎥\n",
       "⎢  2             ⎥\n",
       "⎢                ⎥\n",
       "⎢  u₃            ⎥\n",
       "⎢  ── - 0.5⋅u₄   ⎥\n",
       "⎢  2             ⎥\n",
       "⎢                ⎥\n",
       "⎢u₂   u₃         ⎥\n",
       "⎢── + ── - 0.5⋅u₄⎥\n",
       "⎢4    4          ⎥\n",
       "⎢                ⎥\n",
       "⎢u₁   u₃         ⎥\n",
       "⎢── + ── - 0.5⋅u₄⎥\n",
       "⎢4    4          ⎥\n",
       "⎢                ⎥\n",
       "⎢u₁   u₂         ⎥\n",
       "⎢── + ── - 0.5⋅u₄⎥\n",
       "⎣4    4          ⎦"
      ]
     },
     "execution_count": 148,
     "metadata": {},
     "output_type": "execute_result"
    }
   ],
   "source": [
    "eps"
   ]
  },
  {
   "cell_type": "code",
   "execution_count": null,
   "metadata": {},
   "outputs": [],
   "source": []
  }
 ],
 "metadata": {
  "kernelspec": {
   "display_name": "Python 3",
   "language": "python",
   "name": "python3"
  },
  "language_info": {
   "codemirror_mode": {
    "name": "ipython",
    "version": 3
   },
   "file_extension": ".py",
   "mimetype": "text/x-python",
   "name": "python",
   "nbconvert_exporter": "python",
   "pygments_lexer": "ipython3",
   "version": "3.7.3"
  }
 },
 "nbformat": 4,
 "nbformat_minor": 2
}
