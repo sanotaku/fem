{
 "cells": [
  {
   "cell_type": "code",
   "execution_count": null,
   "metadata": {},
   "outputs": [],
   "source": [
    "import re\n",
    "\n",
    "import pandas as pd"
   ]
  },
  {
   "cell_type": "code",
   "execution_count": null,
   "metadata": {},
   "outputs": [],
   "source": [
    "with open(\"model.msh\") as f:\n",
    "    raw_dat = f.readlines()\n",
    "    dat = []\n",
    "    \n",
    "    # 末尾の\"\\n\"を削除\n",
    "    for d in raw_dat:\n",
    "        dat.append(d[:-1])"
   ]
  },
  {
   "cell_type": "code",
   "execution_count": null,
   "metadata": {},
   "outputs": [],
   "source": [
    "nodes = []\n",
    "RE_PATTERN_NODE = r\"(?P<node_no>[\\d]+)[\\s]+(?P<node_x>[-.Ee\\d]+)[\\s]+(?P<node_y>[-.Ee\\d]+)[\\s]+(?P<node_z>[-.Ee\\d]+)\"\n",
    "search_f = False\n",
    "\n",
    "# Get node data\n",
    "for d in dat:\n",
    "    if re.match(r\"\\$Nodes\", d):\n",
    "        search_f = True\n",
    "    if re.match(r\"\\$EndNodes\", d):\n",
    "        search_f = False\n",
    "        break\n",
    "    m = re.match(RE_PATTERN_NODE, d)\n",
    "    if m and search_f:\n",
    "        nodes.append([\n",
    "            int(m.group(\"node_no\")),\n",
    "            float(m.group(\"node_x\")),\n",
    "            float(m.group(\"node_y\")),\n",
    "            float(m.group(\"node_z\"))\n",
    "        ])\n",
    "\n",
    "df_nodes = pd.DataFrame(nodes, columns=(\"node_no\", \"node_x\", \"node_y\", \"node_z\"))"
   ]
  },
  {
   "cell_type": "code",
   "execution_count": null,
   "metadata": {
    "scrolled": true
   },
   "outputs": [],
   "source": [
    "elements = []\n",
    "element_no = 1\n",
    "RE_COMPILE = re.compile(r\"\"\"(?P<element_no>[\\d]+)[\\s]+\n",
    "                            (?P<class_1>[\\d]+)[\\s]+\n",
    "                            (?P<class_2>[\\d]+)[\\s]+\n",
    "                            (?P<class_3>[\\d]+)[\\s]+\n",
    "                            (?P<class_4>[\\d]+)[\\s]+\n",
    "                            (?P<node_id_1>[\\d]+)[\\s]+\n",
    "                            (?P<node_id_2>[\\d]+)[\\s]+\n",
    "                            (?P<node_id_3>[\\d]+)\n",
    "                            \"\"\", re.VERBOSE)\n",
    "search_f = False\n",
    "\n",
    "# Get node data\n",
    "for d in dat:\n",
    "    if re.match(r\"\\$Elements\", d):\n",
    "        search_f = True\n",
    "    if re.match(r\"\\$EndElements\", d):\n",
    "        search_f = False\n",
    "        break\n",
    "    m = RE_COMPILE.match(d)\n",
    "    if m and search_f:\n",
    "        elements.append([\n",
    "            element_no,\n",
    "            int(m.group(\"node_id_1\")),\n",
    "            int(m.group(\"node_id_2\")),\n",
    "            int(m.group(\"node_id_3\")),\n",
    "        ])\n",
    "        element_no += 1"
   ]
  },
  {
   "cell_type": "code",
   "execution_count": null,
   "metadata": {},
   "outputs": [],
   "source": [
    "tmp = []\n",
    "\n",
    "model_data = []\n",
    "\n",
    "for el in elements:\n",
    "    tmp.append(el[0])  # element_no\n",
    "    tmp.append(el[1])  # tri_node_1\n",
    "    tmp.append(el[2])  # tri_node_2\n",
    "    tmp.append(el[3])  # tri_node_3\n",
    "    tmp.append(float(df_nodes[df_nodes[\"node_no\"] == el[1]][\"node_x\"]))  # tri_node_1_x\n",
    "    tmp.append(float(df_nodes[df_nodes[\"node_no\"] == el[1]][\"node_y\"]))  # tri_node_1_y\n",
    "    tmp.append(float(df_nodes[df_nodes[\"node_no\"] == el[2]][\"node_x\"]))  # tri_node_2_x\n",
    "    tmp.append(float(df_nodes[df_nodes[\"node_no\"] == el[2]][\"node_y\"]))  # tri_node_2_y\n",
    "    tmp.append(float(df_nodes[df_nodes[\"node_no\"] == el[3]][\"node_x\"]))  # tri_node_3_x\n",
    "    tmp.append(float(df_nodes[df_nodes[\"node_no\"] == el[3]][\"node_y\"]))  # tri_node_3_y\n",
    "\n",
    "    model_data.append(tmp)\n",
    "    tmp = []\n",
    "\n",
    "    \n",
    "columns = [\"element_no\", \"tri_node_1\", \"tri_node_2\", \"tri_node_3\", \"tri_node_1_x\", \"tri_node_1_y\", \"tri_node_2_x\", \"tri_node_2_y\", \"tri_node_3_x\", \"tri_node_3_y\"]\n",
    "df_model_data = pd.DataFrame(model_data, columns=columns)\n",
    "\n"
   ]
  },
  {
   "cell_type": "code",
   "execution_count": null,
   "metadata": {},
   "outputs": [],
   "source": [
    "# 書き出し\n",
    "df_model_data.to_csv(\"model_data.csv\")\n",
    "df_nodes.to_csv(\"node_data.csv\")"
   ]
  },
  {
   "cell_type": "code",
   "execution_count": null,
   "metadata": {},
   "outputs": [],
   "source": []
  }
 ],
 "metadata": {
  "@webio": {
   "lastCommId": null,
   "lastKernelId": null
  },
  "kernelspec": {
   "display_name": "Python 3",
   "language": "python",
   "name": "python3"
  },
  "language_info": {
   "codemirror_mode": {
    "name": "ipython",
    "version": 3
   },
   "file_extension": ".py",
   "mimetype": "text/x-python",
   "name": "python",
   "nbconvert_exporter": "python",
   "pygments_lexer": "ipython3",
   "version": "3.7.3"
  }
 },
 "nbformat": 4,
 "nbformat_minor": 2
}
